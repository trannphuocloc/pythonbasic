{
 "cells": [
  {
   "cell_type": "markdown",
   "metadata": {},
   "source": [
    "# What is a computer program?\n",
    "\n",
    "Chương trình là một chuỗi các hành động mà máy tính thực thi theo trình tự. Một chương trình có thể dài và phức tạp, nhưng sẽ được xây dựng từ các phần nhỏ đơn giản."
   ]
  },
  {
   "cell_type": "markdown",
   "metadata": {},
   "source": [
    "- esc + A -> insert cell above\n",
    "- esc + B -> insert cell below\n",
    "- esc + DD -> delete cell\n",
    "- esc + M -> convert to Markdown -- Jupyter will not run this Markdown as Code\n",
    "- ctrl + / -> comment all\n",
    "- ctrl + enter -> run cell"
   ]
  },
  {
   "cell_type": "code",
   "execution_count": 6,
   "metadata": {},
   "outputs": [
    {
     "name": "stdout",
     "output_type": "stream",
     "text": [
      "Hello, World!\n"
     ]
    }
   ],
   "source": [
    "print(\"Hello, World!\")"
   ]
  },
  {
   "cell_type": "code",
   "execution_count": null,
   "metadata": {},
   "outputs": [],
   "source": [
    "2 * 3.5"
   ]
  },
  {
   "cell_type": "code",
   "execution_count": 10,
   "metadata": {},
   "outputs": [
    {
     "name": "stdout",
     "output_type": "stream",
     "text": [
      "Positi Number\n"
     ]
    }
   ],
   "source": [
    "# example: write program to check a number is positive/zero/negative\n",
    "abc = 9 #variable, can change name\n",
    "if num > 0:\n",
    "    print(\"Positive Number\")\n",
    "elif num == 0:\n",
    "    print(\"Zero\")\n",
    "else:\n",
    "    print(\"Negative Number\")"
   ]
  },
  {
   "cell_type": "code",
   "execution_count": 17,
   "metadata": {},
   "outputs": [
    {
     "name": "stdin",
     "output_type": "stream",
     "text": [
      "Nhap so: -909\n"
     ]
    },
    {
     "name": "stdout",
     "output_type": "stream",
     "text": [
      "non Positive Number\n"
     ]
    }
   ],
   "source": [
    "# example: write program to check a number is positive/non-positive\n",
    "#variable, can change name\n",
    "num = int(input(\"Nhap so:\"))\n",
    "if num > 0:\n",
    "    print(\"Positive Number\")\n",
    "else:\n",
    "    print(\"non Positive Number\")"
   ]
  },
  {
   "cell_type": "markdown",
   "metadata": {},
   "source": [
    "<img src=\"PF2.png\">"
   ]
  },
  {
   "cell_type": "markdown",
   "metadata": {},
   "source": [
    "# Basic structure of a Python program"
   ]
  },
  {
   "cell_type": "markdown",
   "metadata": {},
   "source": [
    "## 1. Operation"
   ]
  },
  {
   "cell_type": "code",
   "execution_count": null,
   "metadata": {},
   "outputs": [],
   "source": [
    "3 + 4"
   ]
  },
  {
   "cell_type": "code",
   "execution_count": null,
   "metadata": {},
   "outputs": [],
   "source": [
    "5 - 3"
   ]
  },
  {
   "cell_type": "code",
   "execution_count": null,
   "metadata": {},
   "outputs": [],
   "source": [
    "2 * 3"
   ]
  },
  {
   "cell_type": "code",
   "execution_count": 18,
   "metadata": {},
   "outputs": [
    {
     "data": {
      "text/plain": [
       "5.0"
      ]
     },
     "execution_count": 18,
     "metadata": {},
     "output_type": "execute_result"
    }
   ],
   "source": [
    "10 / 2"
   ]
  },
  {
   "cell_type": "code",
   "execution_count": 19,
   "metadata": {},
   "outputs": [
    {
     "data": {
      "text/plain": [
       "4"
      ]
     },
     "execution_count": 19,
     "metadata": {},
     "output_type": "execute_result"
    }
   ],
   "source": [
    "9 // 2 #2 // là chia, chỉ lấy phần nguên"
   ]
  },
  {
   "cell_type": "code",
   "execution_count": 21,
   "metadata": {},
   "outputs": [
    {
     "data": {
      "text/plain": [
       "32"
      ]
     },
     "execution_count": 21,
     "metadata": {},
     "output_type": "execute_result"
    }
   ],
   "source": [
    "2 ** 5 # 2 ** là lũy thừa (mũ)"
   ]
  },
  {
   "cell_type": "code",
   "execution_count": 28,
   "metadata": {},
   "outputs": [
    {
     "data": {
      "text/plain": [
       "False"
      ]
     },
     "execution_count": 28,
     "metadata": {},
     "output_type": "execute_result"
    }
   ],
   "source": [
    "(1==1)&(2==3)\n",
    "(1==1)and(2==3)\n",
    "# == đang check xem 1 có bằng 1 ko => 1 = 1, nhưng 2 != 3\n",
    "# toán tử and & , đồng thời 2 về đều đúng => True\n",
    "                        # 1 trong 2 sai -> False"
   ]
  },
  {
   "cell_type": "code",
   "execution_count": 25,
   "metadata": {},
   "outputs": [
    {
     "data": {
      "text/plain": [
       "True"
      ]
     },
     "execution_count": 25,
     "metadata": {},
     "output_type": "execute_result"
    }
   ],
   "source": [
    "(1==1)|(2==3)\n",
    "# toán tử or | , chỉ cần 1 trong 2 về đúng -> True"
   ]
  },
  {
   "cell_type": "code",
   "execution_count": 33,
   "metadata": {},
   "outputs": [
    {
     "data": {
      "text/plain": [
       "True"
      ]
     },
     "execution_count": 33,
     "metadata": {},
     "output_type": "execute_result"
    }
   ],
   "source": [
    "1!=2\n",
    "# toán tử 'khác'"
   ]
  },
  {
   "cell_type": "code",
   "execution_count": 31,
   "metadata": {},
   "outputs": [
    {
     "data": {
      "text/plain": [
       "True"
      ]
     },
     "execution_count": 31,
     "metadata": {},
     "output_type": "execute_result"
    }
   ],
   "source": [
    "1 <= 1\n",
    "# viết lại\n",
    "(1==1)or(1<1)\n",
    "# toán tử lớn hơn hoặc bằng"
   ]
  },
  {
   "cell_type": "code",
   "execution_count": 32,
   "metadata": {},
   "outputs": [
    {
     "data": {
      "text/plain": [
       "True"
      ]
     },
     "execution_count": 32,
     "metadata": {},
     "output_type": "execute_result"
    }
   ],
   "source": [
    "a = 1\n",
    "b = 1\n",
    "a is b\n",
    "\n",
    "# programing language hiểu\n",
    "# 1 -> object\n",
    "# gán a,b cùng 1 object\n",
    "# nên 2 cái a is b là giống nhau\n",
    "# ko phải 2 object"
   ]
  },
  {
   "cell_type": "code",
   "execution_count": null,
   "metadata": {},
   "outputs": [],
   "source": [
    "a = 1\n",
    "b = 2\n",
    "a is not b"
   ]
  },
  {
   "cell_type": "code",
   "execution_count": 46,
   "metadata": {},
   "outputs": [
    {
     "data": {
      "text/plain": [
       "True"
      ]
     },
     "execution_count": 46,
     "metadata": {},
     "output_type": "execute_result"
    }
   ],
   "source": [
    "False or False and False or True\n",
    "#True or False and False and True and False or True"
   ]
  },
  {
   "cell_type": "code",
   "execution_count": 47,
   "metadata": {},
   "outputs": [
    {
     "data": {
      "text/plain": [
       "False"
      ]
     },
     "execution_count": 47,
     "metadata": {},
     "output_type": "execute_result"
    }
   ],
   "source": [
    "False and True"
   ]
  },
  {
   "cell_type": "markdown",
   "metadata": {},
   "source": [
    "## 2. Commands in Python"
   ]
  },
  {
   "cell_type": "markdown",
   "metadata": {},
   "source": [
    "### 2.1. Output dùng print()"
   ]
  },
  {
   "cell_type": "code",
   "execution_count": null,
   "metadata": {},
   "outputs": [],
   "source": [
    "# In ra \"Hello World\"\n",
    "print(\"Welcome to MCI\")"
   ]
  },
  {
   "cell_type": "code",
   "execution_count": null,
   "metadata": {},
   "outputs": [],
   "source": [
    "# Các ví dụ khác\n",
    "# Python sẽ in ra đúng như user chỉ định\n",
    "print(\"Welcome to MCI\")\n",
    "print(\"   Welcome to MCI\")"
   ]
  },
  {
   "cell_type": "code",
   "execution_count": 1,
   "metadata": {},
   "outputs": [
    {
     "name": "stdout",
     "output_type": "stream",
     "text": [
      "5 7 9\n"
     ]
    }
   ],
   "source": [
    "# In nhiều biến\n",
    "x = 5\n",
    "y = 7\n",
    "z = 9\n",
    "print(x, y, z)"
   ]
  },
  {
   "cell_type": "code",
   "execution_count": 48,
   "metadata": {},
   "outputs": [
    {
     "name": "stdout",
     "output_type": "stream",
     "text": [
      "This is Kim Jong Un. He is 50 years old\n"
     ]
    }
   ],
   "source": [
    "# In formatted text\n",
    "age = 50\n",
    "name = \"Kim Jong Un\"\n",
    "\n",
    "print(\"This is {}. He is {} years old\".format(name, age))\n",
    "\n",
    "# age 50 là kết quả của nhiều hàm khác sau khi mình query dữ liệu\n",
    "# để chèn age=50, name=Kim va câu print -> để trống và thay bằng {} -> chèn.format bên trong print"
   ]
  },
  {
   "cell_type": "code",
   "execution_count": 49,
   "metadata": {},
   "outputs": [
    {
     "name": "stdout",
     "output_type": "stream",
     "text": [
      "This is Kim Jong Un. He is 50 years old, and his birthyear is 1974.\n"
     ]
    }
   ],
   "source": [
    "# In formatted text\n",
    "age = 50\n",
    "name = \"Kim Jong Un\"\n",
    "birthyear = 2024 - age\n",
    "\n",
    "print(\"This is {}. He is {} years old, and his birthyear is {}.\".format(name, age, birthyear))\n",
    "\n",
    "# age 50 là kết quả của nhiều hàm khác sau khi mình query dữ liệu\n",
    "# để chèn age=50, name=Kim va câu print -> để trống và thay bằng {} -> chèn.format bên trong print"
   ]
  },
  {
   "cell_type": "code",
   "execution_count": 50,
   "metadata": {},
   "outputs": [
    {
     "name": "stdout",
     "output_type": "stream",
     "text": [
      "5 multiplied by 5 is equal to 25\n"
     ]
    }
   ],
   "source": [
    "# In fomatted text với biến được sử dụng lại nhiều lần\n",
    "x = 5\n",
    "\n",
    "print(\"{0} multiplied by {0} is equal to {1}\".format(x, x * x))\n",
    "\n",
    "# có thể gán 1 biến, dùng biến đó trong format mà ko cần tính lại x*x=25 bên trên khi khai báo\n",
    "# python index vị trí đầu trong format là 0 -> x, tới vị trí 1 -> x * x"
   ]
  },
  {
   "cell_type": "markdown",
   "metadata": {},
   "source": [
    "### 2.2 Biến (variables)"
   ]
  },
  {
   "cell_type": "code",
   "execution_count": null,
   "metadata": {},
   "outputs": [],
   "source": [
    "print ('1 + 1 =', 1 + 1)\n",
    "# this is a comment, Python won't try to execute it\n",
    "print ('All done!')"
   ]
  },
  {
   "cell_type": "markdown",
   "metadata": {},
   "source": [
    "Thông thường chúng ta không muốn in trực tiếp kết quả mà muốn lưu chúng lại để sử dụng lại sau đó. Chúng ta có thể tạo một biến trong bộ nhớ máy để gán kết quả vào biến này"
   ]
  },
  {
   "cell_type": "code",
   "execution_count": null,
   "metadata": {},
   "outputs": [],
   "source": [
    "first_result = 1 + 1\n",
    "final_result = first_result * 3.5\n",
    "\n",
    "print (final_result)"
   ]
  },
  {
   "cell_type": "markdown",
   "metadata": {},
   "source": [
    "### 2.3 Nhận user input"
   ]
  },
  {
   "cell_type": "code",
   "execution_count": 2,
   "metadata": {},
   "outputs": [
    {
     "name": "stdin",
     "output_type": "stream",
     "text": [
      "Hay nhap vao ten cua ban:  Nguyen Ngoc Thanh THu\n"
     ]
    },
    {
     "name": "stdout",
     "output_type": "stream",
     "text": [
      "Hello Nguyen Ngoc Thanh THu!\n"
     ]
    }
   ],
   "source": [
    "# Yêu cầu người dùng nhập vào tên, lưu vào biến tên name\n",
    "# In ra Hello tên người dùng\n",
    "name = input(\"Hay nhap vao ten cua ban: \")\n",
    "print(\"Hello {}!\".format(name))"
   ]
  },
  {
   "cell_type": "code",
   "execution_count": 67,
   "metadata": {},
   "outputs": [
    {
     "name": "stdin",
     "output_type": "stream",
     "text": [
      "Hãy nhập độ C: 30\n"
     ]
    },
    {
     "name": "stdout",
     "output_type": "stream",
     "text": [
      "Độ F tương ứng là 86.0.\n"
     ]
    }
   ],
   "source": [
    "temperature = float(input(\"Hãy nhập độ C:\"))\n",
    "print(\"Độ F tương ứng là {}.\".format(temperature * 9/5 + 32))"
   ]
  },
  {
   "cell_type": "code",
   "execution_count": 52,
   "metadata": {},
   "outputs": [
    {
     "name": "stdin",
     "output_type": "stream",
     "text": [
      "Hay nhap vao tuoi cua ban:  22\n"
     ]
    },
    {
     "name": "stdout",
     "output_type": "stream",
     "text": [
      "22\n",
      "<class 'int'>\n"
     ]
    }
   ],
   "source": [
    "age = input(\"Hay nhap vao tuoi cua ban: \")\n",
    "age = int(age)\n",
    "\n",
    "print(age)\n",
    "print(type(age))\n",
    "\n",
    "''' int là integer là số nguyên '''"
   ]
  },
  {
   "cell_type": "code",
   "execution_count": 53,
   "metadata": {},
   "outputs": [
    {
     "name": "stdin",
     "output_type": "stream",
     "text": [
      "Hay nhap vao tuoi cua ban:  20\n"
     ]
    },
    {
     "name": "stdout",
     "output_type": "stream",
     "text": [
      "20.0\n",
      "<class 'float'>\n"
     ]
    }
   ],
   "source": [
    "age = input(\"Hay nhap vao tuoi cua ban: \")\n",
    "age = float(age)\n",
    "\n",
    "print(age)\n",
    "print(type(age))\n",
    "\n",
    "'''float là số lẻ\n",
    "    decimal là thập phân luôn\n",
    "'''"
   ]
  },
  {
   "cell_type": "markdown",
   "metadata": {},
   "source": [
    "## 3. Multiple statements per line"
   ]
  },
  {
   "cell_type": "code",
   "execution_count": 3,
   "metadata": {},
   "outputs": [
    {
     "name": "stdout",
     "output_type": "stream",
     "text": [
      "10\n",
      "20\n",
      "30\n"
     ]
    }
   ],
   "source": [
    "a = 10; b = 20; c = b + a \n",
    "  \n",
    "print(a); print(b); print(c)"
   ]
  },
  {
   "cell_type": "code",
   "execution_count": 4,
   "metadata": {},
   "outputs": [
    {
     "name": "stdout",
     "output_type": "stream",
     "text": [
      "10\n",
      "20\n",
      "30\n"
     ]
    }
   ],
   "source": [
    "a = 10\n",
    "b = 20\n",
    "c = b + a \n",
    "  \n",
    "print(a)\n",
    "print(b)\n",
    "print(c)"
   ]
  },
  {
   "cell_type": "markdown",
   "metadata": {},
   "source": [
    "## 4. Write a statement in multiple lines"
   ]
  },
  {
   "cell_type": "code",
   "execution_count": 72,
   "metadata": {},
   "outputs": [
    {
     "name": "stdout",
     "output_type": "stream",
     "text": [
      "The course is valid\n",
      "The course is valid\n"
     ]
    }
   ],
   "source": [
    "# Bad Practice as width of this code is too much.\n",
    " \n",
    "#code\n",
    "x = 10\n",
    "y = 20\n",
    "z = 30\n",
    "no_of_teachers = x\n",
    "no_of_male_students = y\n",
    "no_of_female_students = z\n",
    " \n",
    "if (no_of_teachers == 10 and \n",
    "    no_of_female_students == 30 and \n",
    "    no_of_male_students == 20 and \n",
    "    (x + y) == 30):\n",
    "    print('The course is valid')\n",
    "\n",
    "# This could be done instead:\n",
    " \n",
    "if (no_of_teachers == 10 and no_of_female_students == 30\n",
    "    and no_of_male_students == 20 and x + y == 30):\n",
    "    print('The course is valid')"
   ]
  },
  {
   "cell_type": "code",
   "execution_count": 5,
   "metadata": {},
   "outputs": [
    {
     "name": "stdout",
     "output_type": "stream",
     "text": [
      "[[1, 2, 3], [3, 4, 5], [5, 6, 7]]\n"
     ]
    }
   ],
   "source": [
    "# The following code is valid \n",
    "a = [\n",
    "    [1, 2, 3],\n",
    "    [3, 4, 5], \n",
    "    [5, 6, 7]\n",
    "    ] \n",
    "  \n",
    "print(a) "
   ]
  },
  {
   "cell_type": "code",
   "execution_count": null,
   "metadata": {},
   "outputs": [],
   "source": [
    "# The following code is also valid \n",
    "  \n",
    "person_1 = 18\n",
    "person_2 = 20\n",
    "person_3 = 12\n",
    "  \n",
    "if ( \n",
    "   person_1 >= 18 and\n",
    "   person_2 >= 18 and\n",
    "   person_3 < 18\n",
    "   ): \n",
    "    print('2 Persons should have ID Cards') "
   ]
  },
  {
   "cell_type": "code",
   "execution_count": null,
   "metadata": {},
   "outputs": [],
   "source": [
    "x = 1 + 2 \\\n",
    "    + 5 + 6 \\\n",
    "    + 10\n",
    "  \n",
    "print(x) "
   ]
  },
  {
   "cell_type": "markdown",
   "metadata": {},
   "source": [
    "## 5. Comment in Python"
   ]
  },
  {
   "cell_type": "code",
   "execution_count": null,
   "metadata": {},
   "outputs": [],
   "source": [
    "#  This example will print Hello World print('Hello World')  # This is a comment "
   ]
  },
  {
   "cell_type": "code",
   "execution_count": null,
   "metadata": {},
   "outputs": [],
   "source": [
    "\"\"\" This example will demonstrate  \n",
    "    multiple comments \"\"\"\n",
    "  \n",
    "\"\"\" The following \n",
    "    a variable contains the  \n",
    "    string 'How old are you?' \n",
    "\"\"\"\n",
    "a = 'How old are you?'\n",
    "  \n",
    "\"\"\" The following statement prints \n",
    "    what's inside the variable a  \n",
    "\"\"\"\n",
    "print(a) "
   ]
  },
  {
   "cell_type": "markdown",
   "metadata": {},
   "source": [
    "## 6. Whitespace"
   ]
  },
  {
   "cell_type": "code",
   "execution_count": 6,
   "metadata": {},
   "outputs": [
    {
     "name": "stdout",
     "output_type": "stream",
     "text": [
      "1\n"
     ]
    }
   ],
   "source": [
    "# This is correct but whitespace can improve readability \n",
    "  \n",
    "a = 2-1  # Better way is a = 2 - 1 \n",
    "  \n",
    "print(a) "
   ]
  },
  {
   "cell_type": "code",
   "execution_count": null,
   "metadata": {},
   "outputs": [],
   "source": [
    "x = 10\n",
    "  \n",
    "while(x != 0):\n",
    "    if(x > 5):   # Line 1 \n",
    "        print('x > 5')  # Line 2 \n",
    "    else:        # Line 3 \n",
    "        print('x < 5') # Line 4 \n",
    "    x -= 2       # Line 5\n",
    "  \n",
    "\"\"\" \n",
    "Lines 1, 3, 5 are on same level \n",
    "Line 2 will only be executed if if condition becomes true. \n",
    "Line 4 will only be executed if if condition becomes false. \n",
    "\"\"\""
   ]
  },
  {
   "cell_type": "markdown",
   "metadata": {},
   "source": [
    "# Data type"
   ]
  },
  {
   "cell_type": "markdown",
   "metadata": {},
   "source": [
    "## Kiểu bool"
   ]
  },
  {
   "cell_type": "code",
   "execution_count": null,
   "metadata": {},
   "outputs": [],
   "source": [
    "# Gán True, False\n",
    "x = True\n",
    "print(x)\n",
    "type(x)"
   ]
  },
  {
   "cell_type": "code",
   "execution_count": 7,
   "metadata": {},
   "outputs": [
    {
     "name": "stdout",
     "output_type": "stream",
     "text": [
      "True\n"
     ]
    }
   ],
   "source": [
    "# Biểu thức so sánh >\n",
    "x = 10 > 2\n",
    "print(x)"
   ]
  },
  {
   "cell_type": "code",
   "execution_count": 8,
   "metadata": {},
   "outputs": [
    {
     "name": "stdout",
     "output_type": "stream",
     "text": [
      "False\n"
     ]
    }
   ],
   "source": [
    "# Biểu thức so sánh ==\n",
    "x = (10 == 5)\n",
    "print(x)"
   ]
  },
  {
   "cell_type": "markdown",
   "metadata": {},
   "source": [
    "## Kiểu int"
   ]
  },
  {
   "cell_type": "code",
   "execution_count": null,
   "metadata": {},
   "outputs": [],
   "source": [
    "# Phép gán số nguyên\n",
    "x = 100\n",
    "type(x)"
   ]
  },
  {
   "cell_type": "code",
   "execution_count": null,
   "metadata": {},
   "outputs": [],
   "source": [
    "# Số âm\n",
    "x = -12323\n",
    "print(x)\n",
    "type(x)"
   ]
  },
  {
   "cell_type": "code",
   "execution_count": null,
   "metadata": {},
   "outputs": [],
   "source": [
    "# Phép gán biểu thức mà kết quả trả về là số nguyên (1)\n",
    "x = 100 + 5\n",
    "print(x)\n",
    "type(x)"
   ]
  },
  {
   "cell_type": "code",
   "execution_count": 80,
   "metadata": {},
   "outputs": [
    {
     "name": "stdout",
     "output_type": "stream",
     "text": [
      "50\n",
      "0\n",
      "<class 'int'>\n",
      "<class 'int'>\n"
     ]
    }
   ],
   "source": [
    "# Phép gán biểu thức mà kết quả trả về là số nguyên (2)\n",
    "x = 100 // 2\n",
    "y = 100 % 2\n",
    "\n",
    "print(x)\n",
    "print(y)\n",
    "\n",
    "print(type(x))\n",
    "print(type(y))"
   ]
  },
  {
   "cell_type": "code",
   "execution_count": 9,
   "metadata": {},
   "outputs": [
    {
     "name": "stdout",
     "output_type": "stream",
     "text": [
      "1\n",
      "0\n"
     ]
    }
   ],
   "source": [
    "# True ứng với 1, False ứng với 0\n",
    "print(int(True))\n",
    "print(int(False))"
   ]
  },
  {
   "cell_type": "code",
   "execution_count": 10,
   "metadata": {},
   "outputs": [
    {
     "name": "stdout",
     "output_type": "stream",
     "text": [
      "10\n"
     ]
    }
   ],
   "source": [
    "# Số thực bị cắt phần thập phân\n",
    "print(int(10.99))"
   ]
  },
  {
   "cell_type": "code",
   "execution_count": null,
   "metadata": {},
   "outputs": [],
   "source": [
    "# Ép từ string, khoảng trắng sẽ được trimmed\n",
    "print(int(\"10\"))\n",
    "print(int(\" 10\"))\n",
    "print(int(\"10   \"))\n",
    "print(int(\" -10\"))"
   ]
  },
  {
   "cell_type": "markdown",
   "metadata": {},
   "source": [
    "## Kiểu float"
   ]
  },
  {
   "cell_type": "code",
   "execution_count": null,
   "metadata": {},
   "outputs": [],
   "source": [
    "# Phép gán số thực\n",
    "x = 100.0\n",
    "type(x)"
   ]
  },
  {
   "cell_type": "code",
   "execution_count": null,
   "metadata": {},
   "outputs": [],
   "source": [
    "# Số âm\n",
    "x = -12323.\n",
    "print(x)\n",
    "type(x)"
   ]
  },
  {
   "cell_type": "code",
   "execution_count": null,
   "metadata": {},
   "outputs": [],
   "source": [
    "# Phép gán biểu thức mà kết quả trả về là số nguyên (1)\n",
    "x = 100 / 5\n",
    "print(x)\n",
    "type(x)"
   ]
  },
  {
   "cell_type": "code",
   "execution_count": null,
   "metadata": {},
   "outputs": [],
   "source": [
    "# Từ bool: True ứng với 1.0, False ứng với 0.0\n",
    "print(float(True))\n",
    "print(float(False))"
   ]
  },
  {
   "cell_type": "code",
   "execution_count": null,
   "metadata": {},
   "outputs": [],
   "source": [
    "# Từ int\n",
    "print(float(10))"
   ]
  },
  {
   "cell_type": "code",
   "execution_count": null,
   "metadata": {},
   "outputs": [],
   "source": [
    "# Từ string, khoảng trắng sẽ được trimmed\n",
    "print(float(\"10.0\"))\n",
    "print(float(\" 10.\"))\n",
    "print(float(\"10.   \"))\n",
    "print(float(\"-10.   \"))"
   ]
  },
  {
   "cell_type": "markdown",
   "metadata": {},
   "source": [
    "# Exercise"
   ]
  },
  {
   "cell_type": "code",
   "execution_count": 56,
   "metadata": {},
   "outputs": [
    {
     "name": "stdout",
     "output_type": "stream",
     "text": [
      "50\n",
      "600\n"
     ]
    }
   ],
   "source": [
    "# Calculate the multiplication and sum of two numbers\n",
    "# number1 = 20\n",
    "# number2 = 30\n",
    "\n",
    "num1 = 20\n",
    "num2 = 30\n",
    "print(num1 + num2)\n",
    "print(num1 * num2)"
   ]
  },
  {
   "cell_type": "code",
   "execution_count": 57,
   "metadata": {},
   "outputs": [
    {
     "name": "stdout",
     "output_type": "stream",
     "text": [
      "Name  Is  James\n"
     ]
    }
   ],
   "source": [
    "# Display three string “Name”, “Is”, “James” as “Name**Is**James”\n",
    "\n",
    "print(\"Name  Is  James\")"
   ]
  },
  {
   "cell_type": "code",
   "execution_count": 63,
   "metadata": {},
   "outputs": [
    {
     "name": "stdout",
     "output_type": "stream",
     "text": [
      "10.0\n"
     ]
    }
   ],
   "source": [
    "# Display float number with 2 decimal places using print()\n",
    "\n",
    "x = 10\n",
    "\n",
    "print(float(x))"
   ]
  },
  {
   "cell_type": "code",
   "execution_count": 15,
   "metadata": {},
   "outputs": [
    {
     "name": "stdin",
     "output_type": "stream",
     "text": [
      "Hay nhap so thu nhat: 10\n",
      "Hay nhap so thu hai: 10\n"
     ]
    },
    {
     "name": "stdout",
     "output_type": "stream",
     "text": [
      "Day la ket qua khi nhan hai so: 100\n"
     ]
    }
   ],
   "source": [
    "# Write a program to accept two numbers from the user and calculate multiplication\n",
    "a = int(input(\"Hay nhap so thu nhat:\" ))\n",
    "b = int(input(\"Hay nhap so thu hai:\" ))\n",
    "print(\"Day la ket qua khi nhan hai so: {}\".format(a * b))"
   ]
  },
  {
   "cell_type": "code",
   "execution_count": null,
   "metadata": {},
   "outputs": [],
   "source": [
    "# input:\n",
    "# totalMoney = 1000\n",
    "# quantity = 3\n",
    "# price = 450\n",
    "\n",
    "# output:\n",
    "# I have 1000 dollars so I can buy 3 football for 450 dollars."
   ]
  },
  {
   "cell_type": "code",
   "execution_count": null,
   "metadata": {},
   "outputs": [],
   "source": [
    "# Program to Check if a Number is Odd or Even"
   ]
  },
  {
   "cell_type": "code",
   "execution_count": 100,
   "metadata": {},
   "outputs": [
    {
     "name": "stdin",
     "output_type": "stream",
     "text": [
      "Hãy nhập độ dài cạnh a: 3.5\n",
      "Hãy nhập độ dài cạnh b: 4.5\n",
      "Hãy nhập độ dài cạnh c: 5.5\n"
     ]
    },
    {
     "name": "stdout",
     "output_type": "stream",
     "text": [
      "7.854885024620029\n",
      "Diện tích tam giác là 7.8549\n",
      "Diện tích tam giác là 7.85\n"
     ]
    }
   ],
   "source": [
    "'''EXERCISE 2'''\n",
    "import math\n",
    "a = float(input(\"Hãy nhập độ dài cạnh a:\"))\n",
    "b = float(input(\"Hãy nhập độ dài cạnh b:\"))\n",
    "c = float(input(\"Hãy nhập độ dài cạnh c:\"))\n",
    "p = 0.5 * (a + b + c)\n",
    "s = math.sqrt(p*(p-a)*(p-b)*(p-c))\n",
    "\n",
    "print(s)\n",
    "print(\"Diện tích tam giác là {:.4f}\".format(s))\n",
    "print(\"Diện tích tam giác là\",round(s,2))\n"
   ]
  },
  {
   "cell_type": "code",
   "execution_count": null,
   "metadata": {},
   "outputs": [],
   "source": [
    "# example: write program to check a number is positive/zero/negative\n",
    "abc = 9 #variable, can change name\n",
    "if num > 0:\n",
    "    print(\"Positive Number\")\n",
    "elif num == 0:\n",
    "    print(\"Zero\")\n",
    "else:\n",
    "    print(\"Negative Number\")"
   ]
  },
  {
   "cell_type": "code",
   "execution_count": 17,
   "metadata": {},
   "outputs": [
    {
     "name": "stdin",
     "output_type": "stream",
     "text": [
      "Hãy nhập số nguyên: 19\n"
     ]
    },
    {
     "name": "stdout",
     "output_type": "stream",
     "text": [
      "19 không phải là bội số của 5\n"
     ]
    }
   ],
   "source": [
    "'''EXERCISE 3'''\n",
    "num = int(input(\"Hãy nhập số nguyên:\"))\n",
    "multiple = 5\n",
    "if num % multiple == 0:\n",
    "    print(\"{} là bội số của 5\".format(num))\n",
    "else:\n",
    "    print(\"{} không phải là bội số của 5\".format(num))"
   ]
  },
  {
   "cell_type": "code",
   "execution_count": 90,
   "metadata": {},
   "outputs": [
    {
     "name": "stdout",
     "output_type": "stream",
     "text": [
      "1 8\n",
      "2 16\n",
      "3 24\n",
      "4 32\n",
      "5 40\n",
      "6 48\n",
      "7 56\n",
      "8 64\n",
      "9 72\n",
      "10 80\n",
      "11 88\n",
      "12 96\n",
      "13 104\n",
      "14 112\n",
      "15 120\n",
      "16 128\n",
      "17 136\n",
      "18 144\n",
      "19 152\n"
     ]
    }
   ],
   "source": [
    "number = 8\n",
    "\n",
    "for i in range(1, 20):  ## Liệt kê 10 bội số đầu tiên\n",
    "    if number * i <= 200:\n",
    "        print(i, number * i)\n"
   ]
  },
  {
   "cell_type": "code",
   "execution_count": null,
   "metadata": {},
   "outputs": [],
   "source": []
  }
 ],
 "metadata": {
  "kernelspec": {
   "display_name": "Python 3 (ipykernel)",
   "language": "python",
   "name": "python3"
  },
  "language_info": {
   "codemirror_mode": {
    "name": "ipython",
    "version": 3
   },
   "file_extension": ".py",
   "mimetype": "text/x-python",
   "name": "python",
   "nbconvert_exporter": "python",
   "pygments_lexer": "ipython3",
   "version": "3.11.7"
  },
  "toc": {
   "base_numbering": 1,
   "nav_menu": {},
   "number_sections": true,
   "sideBar": true,
   "skip_h1_title": false,
   "title_cell": "Table of Contents",
   "title_sidebar": "Contents",
   "toc_cell": false,
   "toc_position": {},
   "toc_section_display": true,
   "toc_window_display": true
  },
  "toc-autonumbering": true,
  "toc-showcode": false,
  "toc-showmarkdowntxt": false
 },
 "nbformat": 4,
 "nbformat_minor": 4
}
